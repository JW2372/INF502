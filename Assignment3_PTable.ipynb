{
 "cells": [
  {
   "cell_type": "code",
   "execution_count": null,
   "metadata": {},
   "outputs": [],
   "source": [
    "table = []\n",
    "table.append({\"symbol\": 'H', \"name\":\"Hydrogen\" ,\"atomic number\": 1,\"row\": 1,\"column\": 1})\n",
    "table.append({\"symbol\": 'He', \"name\":\"Helium\" ,\"atomic number\": 2,\"row\": 1,\"column\": 18})\n",
    "table.append({\"symbol\": 'Li', \"name\":\"Lithium\" ,\"atomic number\": 3,\"row\": 2,\"column\": 1})\n",
    "\n",
    "menu_info = '''\n",
    "1.See all the information that is stored about \n",
    "any element, by entering that element's symbol.\n",
    "\n",
    "2.Choose a property, and see that property for \n",
    "each element in the table.\n",
    "\n",
    "3.Enter a new element.\n",
    "\n",
    "4.Change the attributes of an element,\n",
    " by entering the element's symbol.\n",
    " \n",
    "5.Exit the program.\n",
    "'''\n",
    "\n",
    "while True:\n",
    "    print(menu_info)\n",
    "    number = input(\"Choose an option:\")\n",
    "    if number == '1':\n",
    "        s = input(\"Enter the element's symbol:\")\n",
    "        for info in table:\n",
    "            if info.get(\"symbol\") == s:\n",
    "                print(str(info.get(\"symbol\")), str(info.get(\"name\")), str(info.get(\"atomic number\")),\n",
    "                      str(info.get(\"row\")),str(info.get(\"column\")))\n",
    "    elif number == '2':\n",
    "        p = input(\"Choose a property:\")\n",
    "        for info in table:\n",
    "            print(str(info.get(p)))\n",
    "    elif number == '3':\n",
    "        ns = input(\"Enter the new element's symbol:\")\n",
    "        nn = input(\"Enter the new element's name:\")\n",
    "        na = int(input(\"Enter the new element's atomic number:\"))\n",
    "        nr = int(input(\"Enter the new element's row number:\"))\n",
    "        nc = int(input(\"Enter the new element's column number:\"))\n",
    "        table.append({\"symbol\": ns, \"name\": nn, \"atomic number\": na, \"row\": nr, \"column\": nc})\n",
    "    elif number == '4':\n",
    "        s = input(\"Enter the element's symbol:\")\n",
    "        p = input(\"Choose a property to change:\")\n",
    "        v = input(\"Change to:\")\n",
    "        for info in table:\n",
    "            if info.get(\"symbol\") == s:\n",
    "                info.update({p:v})\n",
    "    elif number == '5':\n",
    "        break"
   ]
  }
 ],
 "metadata": {
  "kernelspec": {
   "display_name": "Python 3",
   "language": "python",
   "name": "python3"
  },
  "language_info": {
   "codemirror_mode": {
    "name": "ipython",
    "version": 3
   },
   "file_extension": ".py",
   "mimetype": "text/x-python",
   "name": "python",
   "nbconvert_exporter": "python",
   "pygments_lexer": "ipython3",
   "version": "3.8.3"
  }
 },
 "nbformat": 4,
 "nbformat_minor": 4
}

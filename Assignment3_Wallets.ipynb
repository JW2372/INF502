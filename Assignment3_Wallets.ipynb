{
 "cells": [
  {
   "cell_type": "code",
   "execution_count": 2,
   "metadata": {},
   "outputs": [
    {
     "name": "stdout",
     "output_type": "stream",
     "text": [
      "Please provide 5 numbers representing the value in cash stored in 5 different wallets and split using ','1.1, 2,3.2,0.5,20\n",
      "['1.1', ' 2', '3.2', '0.5', '20']\n",
      "The fattest wallet has 20.0 value in it\n",
      "The skinniest wallet has 0.5 value in it.\n",
      "All together, these wallets have 26.8 value in them.\n",
      "All together, the total value of these wallets is worth 268.0 dimes\n"
     ]
    }
   ],
   "source": [
    "x=input(\"Please provide 5 numbers representing the value in cash stored in 5 different wallets and split using ','\")\n",
    "xlist=x.split(\",\")\n",
    "print(xlist)\n",
    "xlist = [float(xlist[i]) for i in range(len(xlist))] #\n",
    "xlist.sort(reverse = False)\n",
    "print(\"The fattest wallet has \"+str(xlist[-1])+\" value in it\")\n",
    "print(\"The skinniest wallet has \"+str(xlist[0])+\" value in it.\")\n",
    "print(\"All together, these wallets have \"+str(sum(xlist))+\" value in them.\")\n",
    "print(\"All together, the total value of these wallets is worth \"+str(10*sum(xlist))+\" dimes\")"
   ]
  },
  {
   "cell_type": "markdown",
   "metadata": {},
   "source": [
    "## "
   ]
  }
 ],
 "metadata": {
  "kernelspec": {
   "display_name": "Python 3",
   "language": "python",
   "name": "python3"
  },
  "language_info": {
   "codemirror_mode": {
    "name": "ipython",
    "version": 3
   },
   "file_extension": ".py",
   "mimetype": "text/x-python",
   "name": "python",
   "nbconvert_exporter": "python",
   "pygments_lexer": "ipython3",
   "version": "3.7.6"
  }
 },
 "nbformat": 4,
 "nbformat_minor": 4
}
